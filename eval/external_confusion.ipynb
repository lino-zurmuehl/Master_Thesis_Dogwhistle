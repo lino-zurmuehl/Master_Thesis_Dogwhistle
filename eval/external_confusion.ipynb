{
 "cells": [
  {
   "cell_type": "code",
   "execution_count": 10,
   "id": "6c6512d0",
   "metadata": {},
   "outputs": [
    {
     "data": {
      "image/png": "[encoded data removed]",
      "text/plain": [
       "<Figure size 800x400 with 2 Axes>"
      ]
     },
     "metadata": {},
     "output_type": "display_data"
    }
   ],
   "source": [
    "import pandas as pd\n",
    "import matplotlib.pyplot as plt\n",
    "import seaborn as sns\n",
    "from sklearn.metrics import confusion_matrix,accuracy_score, f1_score\n",
    "import numpy as np\n",
    "from matplotlib.colors import ListedColormap\n",
    "\n",
    "\n",
    "sns.set(style=\"whitegrid\", font=\"Courier New\") # Set style once\n",
    "\n",
    "set2 = sns.color_palette(\"Set2\")\n",
    "incorrect_color = set2[1]  #\n",
    "correct_color = set2[0]  \n",
    "\n",
    "# Create a colormap: Index 0 maps to incorrect_color, Index 1 maps to correct_color\n",
    "custom_cmap = ListedColormap([incorrect_color, correct_color])\n",
    "\n",
    "\n",
    "try:\n",
    "    roberta_df = pd.read_csv(\"../eval/roberta_external_predictions.csv\")\n",
    "    gemma_df = pd.read_csv(\"../eval/gemma_external_predictions.csv\")\n",
    "except FileNotFoundError as e:\n",
    "    print(f\"Error loading data: {e}\")\n",
    "    print(\"Please ensure 'eval/roberta_external_predictions.csv' and 'eval/gemma_external_predictions.csv' exist.\")\n",
    "    exit() \n",
    "\n",
    "# Convert label columns to integers \n",
    "for df in [roberta_df, gemma_df]:\n",
    "    df['true_label'] = df['true_label'].astype(int)\n",
    "    df['predicted_label'] = df['predicted_label'].astype(int)\n",
    "\n",
    "\n",
    "cm_roberta = confusion_matrix(roberta_df['true_label'], roberta_df['predicted_label'])\n",
    "cm_gemma = confusion_matrix(gemma_df['true_label'], gemma_df['predicted_label'])\n",
    "labels = [\"No Dog Whistle\", \"Dog Whistle\"] \n",
    "\n",
    "# --- Simplified Plotting Function ---\n",
    "def plot_simplified_confmat(cm, ax, title, show_yticklabels, cmap):\n",
    "    \"\"\"Plots a confusion matrix with specific colors for correct/incorrect predictions.\"\"\"\n",
    "    if cm.shape != (2, 2):\n",
    "        raise ValueError(\"This function is designed for 2x2 confusion matrices.\")\n",
    "  \n",
    "    correctness_matrix = np.array([[1, 0], [0, 1]]) \n",
    "\n",
    "    sns.heatmap(\n",
    "        correctness_matrix,\n",
    "        annot=cm,           \n",
    "        fmt=\"d\",           \n",
    "        cmap=cmap,\n",
    "        cbar=False,       \n",
    "        xticklabels=labels,\n",
    "        yticklabels=labels if show_yticklabels else False,\n",
    "        linewidths=0.1,\n",
    "        linecolor='#8DA0CB',\n",
    "        ax=ax,\n",
    "        square=False,        \n",
    "        annot_kws={\"size\": 14, \"color\": \"white\", \"weight\": \"bold\"}, \n",
    "        vmin=0,            \n",
    "        vmax=1\n",
    "    )\n",
    "    ax.set_xlabel(\"Predicted Label\", fontsize=12)\n",
    "    if show_yticklabels:\n",
    "        ax.set_ylabel(\"True Label\", fontsize=12)\n",
    "    ax.set_title(title, fontsize=14)\n",
    "    ax.tick_params(axis='both', which='major', labelsize=10)\n",
    "\n",
    "fig, axes = plt.subplots(1, 2, figsize=(8, 4)) \n",
    "\n",
    "plot_simplified_confmat(cm_roberta, axes[0], \"RoBERTa on External Data\", True, custom_cmap)\n",
    "plot_simplified_confmat(cm_gemma, axes[1], \"Gemma 2 on External Data\", False, custom_cmap) \n",
    "\n",
    "plt.tight_layout(pad=1.5) # Add padding\n",
    "plt.savefig(\"../plots/external_confusion_matrices_simplified.png\", dpi=300, bbox_inches='tight')\n",
    "plt.show()"
   ]
  },
  {
   "cell_type": "code",
   "execution_count": 3,
   "id": "00a13f62",
   "metadata": {},
   "outputs": [
    {
     "name": "stdout",
     "output_type": "stream",
     "text": [
      "External validation accuracy: 0.6732673267326733\n",
      "External validation F1 score: 0.547945205479452\n"
     ]
    }
   ],
   "source": [
    "test_df = pd.read_csv(\"../eval/gemma_external_predictions_corrected.csv\")\n",
    "accuracy = accuracy_score(test_df['true_label'], test_df['predicted_label'])\n",
    "f1 = f1_score(test_df['true_label'], test_df['predicted_label'])\n",
    "\n",
    "print(\"External validation accuracy:\", accuracy)\n",
    "print(\"External validation F1 score:\", f1)"
   ]
  }
 ],
 "metadata": {
  "kernelspec": {
   "display_name": "dogwhistle_env",
   "language": "python",
   "name": "python3"
  },
  "language_info": {
   "codemirror_mode": {
    "name": "ipython",
    "version": 3
   },
   "file_extension": ".py",
   "mimetype": "text/x-python",
   "name": "python",
   "nbconvert_exporter": "python",
   "pygments_lexer": "ipython3",
   "version": "3.10.9"
  }
 },
 "nbformat": 4,
 "nbformat_minor": 5
}
